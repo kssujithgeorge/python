{
  "nbformat": 4,
  "nbformat_minor": 0,
  "metadata": {
    "colab": {
      "name": "Untitled0.ipynb",
      "provenance": [],
      "authorship_tag": "ABX9TyP5TxXTqb4r94QDmvNnCMY+",
      "include_colab_link": true
    },
    "kernelspec": {
      "name": "python3",
      "display_name": "Python 3"
    },
    "language_info": {
      "name": "python"
    }
  },
  "cells": [
    {
      "cell_type": "markdown",
      "metadata": {
        "id": "view-in-github",
        "colab_type": "text"
      },
      "source": [
        "<a href=\"https://colab.research.google.com/github/kssujithgeorge/python/blob/main/tubedownload.ipynb\" target=\"_parent\"><img src=\"https://colab.research.google.com/assets/colab-badge.svg\" alt=\"Open In Colab\"/></a>"
      ]
    },
    {
      "cell_type": "code",
      "metadata": {
        "colab": {
          "base_uri": "https://localhost:8080/"
        },
        "id": "P9GzWqElN-kF",
        "outputId": "0c0d0e90-f23f-4396-8cb1-b2a52081cdc0"
      },
      "source": [
        "!pip install pytube"
      ],
      "execution_count": 2,
      "outputs": [
        {
          "output_type": "stream",
          "name": "stdout",
          "text": [
            "Collecting pytube\n",
            "  Downloading pytube-11.0.1-py3-none-any.whl (56 kB)\n",
            "\u001b[?25l\r\u001b[K     |█████▉                          | 10 kB 27.8 MB/s eta 0:00:01\r\u001b[K     |███████████▋                    | 20 kB 28.3 MB/s eta 0:00:01\r\u001b[K     |█████████████████▌              | 30 kB 22.3 MB/s eta 0:00:01\r\u001b[K     |███████████████████████▎        | 40 kB 17.9 MB/s eta 0:00:01\r\u001b[K     |█████████████████████████████▏  | 51 kB 8.3 MB/s eta 0:00:01\r\u001b[K     |████████████████████████████████| 56 kB 3.3 MB/s \n",
            "\u001b[?25hInstalling collected packages: pytube\n",
            "Successfully installed pytube-11.0.1\n"
          ]
        }
      ]
    },
    {
      "cell_type": "code",
      "metadata": {
        "colab": {
          "base_uri": "https://localhost:8080/"
        },
        "id": "cMac-qnHORSx",
        "outputId": "6f5b7b3b-697a-41af-ee0c-e236c03c6f5c"
      },
      "source": [
        "#install pip pytube then start coding\n",
        "from pytube import YouTube\n",
        "\n",
        "#location to save\n",
        "save_path = \"D:/downloads\"\n",
        "\n",
        "link=input(\"Enter YouTube video path: \")\n",
        "\n",
        "try:\n",
        "    yt=YouTube(link)\n",
        "    print(yt)\n",
        "except:\n",
        "    print(\"Connection Error\")\n",
        "\n",
        "###very low Quality, downloading video automatic\n",
        "#stream=yt.streams.first()\n",
        "#stream.download(save_path)\n",
        "    \n",
        "try:\n",
        "    # downloading the video manually\n",
        "    yt.streams.filter(progressive=True, file_extension='mp4').order_by('resolution')[-1].download(save_path)\n",
        "except:\n",
        "    print(\"Some Error!\")\n",
        "\n",
        "    \n",
        "print('Task Completed!')"
      ],
      "execution_count": 3,
      "outputs": [
        {
          "output_type": "stream",
          "name": "stdout",
          "text": [
            "Enter YouTube video path: https://www.youtube.com/watch?v=EjP47NhVIiw\n",
            "<pytube.__main__.YouTube object: videoId=EjP47NhVIiw>\n",
            "Task Completed!\n"
          ]
        }
      ]
    }
  ]
}