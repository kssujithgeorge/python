{
  "nbformat": 4,
  "nbformat_minor": 0,
  "metadata": {
    "colab": {
      "name": "Untitled0.ipynb",
      "provenance": [],
      "authorship_tag": "ABX9TyMbm6zwC0guxiTgdCZP2Ny6",
      "include_colab_link": true
    },
    "kernelspec": {
      "name": "python3",
      "display_name": "Python 3"
    },
    "language_info": {
      "name": "python"
    }
  },
  "cells": [
    {
      "cell_type": "markdown",
      "metadata": {
        "id": "view-in-github",
        "colab_type": "text"
      },
      "source": [
        "<a href=\"https://colab.research.google.com/github/kssujithgeorge/python/blob/main/Untitled0.ipynb\" target=\"_parent\"><img src=\"https://colab.research.google.com/assets/colab-badge.svg\" alt=\"Open In Colab\"/></a>"
      ]
    },
    {
      "cell_type": "code",
      "metadata": {
        "colab": {
          "base_uri": "https://localhost:8080/"
        },
        "id": "O6ZUJDp-9qnb",
        "outputId": "38261ae8-fe82-440f-a012-569190fb2e41"
      },
      "source": [
        "!pip install requests"
      ],
      "execution_count": 4,
      "outputs": [
        {
          "output_type": "stream",
          "name": "stdout",
          "text": [
            "Requirement already satisfied: requests in /usr/local/lib/python3.7/dist-packages (2.23.0)\n",
            "Requirement already satisfied: chardet<4,>=3.0.2 in /usr/local/lib/python3.7/dist-packages (from requests) (3.0.4)\n",
            "Requirement already satisfied: idna<3,>=2.5 in /usr/local/lib/python3.7/dist-packages (from requests) (2.10)\n",
            "Requirement already satisfied: urllib3!=1.25.0,!=1.25.1,<1.26,>=1.21.1 in /usr/local/lib/python3.7/dist-packages (from requests) (1.24.3)\n",
            "Requirement already satisfied: certifi>=2017.4.17 in /usr/local/lib/python3.7/dist-packages (from requests) (2021.5.30)\n"
          ]
        }
      ]
    },
    {
      "cell_type": "code",
      "metadata": {
        "id": "_X3Xr8zL9yqS"
      },
      "source": [
        "import requests"
      ],
      "execution_count": 1,
      "outputs": []
    },
    {
      "cell_type": "code",
      "metadata": {
        "colab": {
          "base_uri": "https://localhost:8080/"
        },
        "id": "rXsB3f0S_9m5",
        "outputId": "d3cc4b8f-6b17-48ce-f52e-f185cc253a00"
      },
      "source": [
        "city_name=\"Cochin\";\n",
        "api_key=\"e7e7f678d2ee98fd50949462147a2f4d\";\n",
        "url=\"http://api.openweathermap.org/data/2.5/weather?q=\"+city_name+\"&appid=\"+api_key+\"&units=metric\";\n",
        "print(url)"
      ],
      "execution_count": 3,
      "outputs": [
        {
          "output_type": "stream",
          "name": "stdout",
          "text": [
            "http://api.openweathermap.org/data/2.5/weather?q=Cochin&appid=e7e7f678d2ee98fd50949462147a2f4d&units=metric\n"
          ]
        }
      ]
    },
    {
      "cell_type": "code",
      "metadata": {
        "colab": {
          "base_uri": "https://localhost:8080/"
        },
        "id": "kP12809kBFdR",
        "outputId": "6b309924-4877-4322-9269-64704c4ca390"
      },
      "source": [
        "result=requests.get(url);\n",
        "data_extract=result.json();\n",
        "data_extract"
      ],
      "execution_count": 4,
      "outputs": [
        {
          "output_type": "execute_result",
          "data": {
            "text/plain": [
              "{'base': 'stations',\n",
              " 'clouds': {'all': 90},\n",
              " 'cod': 200,\n",
              " 'coord': {'lat': 9.9399, 'lon': 76.2602},\n",
              " 'dt': 1636271346,\n",
              " 'id': 1273874,\n",
              " 'main': {'feels_like': 37.99,\n",
              "  'grnd_level': 1006,\n",
              "  'humidity': 76,\n",
              "  'pressure': 1007,\n",
              "  'sea_level': 1007,\n",
              "  'temp': 30.99,\n",
              "  'temp_max': 30.99,\n",
              "  'temp_min': 30.99},\n",
              " 'name': 'Kochi',\n",
              " 'sys': {'country': 'IN',\n",
              "  'id': 9211,\n",
              "  'sunrise': 1636246011,\n",
              "  'sunset': 1636288226,\n",
              "  'type': 1},\n",
              " 'timezone': 19800,\n",
              " 'visibility': 10000,\n",
              " 'weather': [{'description': 'overcast clouds',\n",
              "   'icon': '04d',\n",
              "   'id': 804,\n",
              "   'main': 'Clouds'}],\n",
              " 'wind': {'deg': 266, 'gust': 3.68, 'speed': 3.83}}"
            ]
          },
          "metadata": {},
          "execution_count": 4
        }
      ]
    },
    {
      "cell_type": "code",
      "metadata": {
        "colab": {
          "base_uri": "https://localhost:8080/"
        },
        "id": "ArKRt12DEC7A",
        "outputId": "0568eba6-7c5e-403b-dd94-e01a85774e83"
      },
      "source": [
        "country=data_extract[\"sys\"][\"country\"]\n",
        "location=data_extract[\"name\"]\n",
        "wd=data_extract[\"weather\"][0][\"description\"]\n",
        "current_tem=data_extract[\"main\"][\"feels_like\"]\n",
        "tm=data_extract[\"main\"][\"temp_max\"]\n",
        "tmin=data_extract[\"main\"][\"temp_min\"]\n",
        "print(\"Country :\", country)\n",
        "print(\"Location :\", location)\n",
        "print(\"Weather Description :\", wd)\n",
        "print(\"Current Tempteraure :\", current_tem)\n",
        "print(\"Maximum Tempteraure :\", tm)\n",
        "print(\"Minimum Tempteraure :\", tmin)"
      ],
      "execution_count": 5,
      "outputs": [
        {
          "output_type": "stream",
          "name": "stdout",
          "text": [
            "Country : IN\n",
            "Location : Kochi\n",
            "Weather Description : overcast clouds\n",
            "Current Tempteraure : 37.99\n",
            "Maximum Tempteraure : 30.99\n",
            "Minimum Tempteraure : 30.99\n"
          ]
        }
      ]
    }
  ]
}